{
 "cells": [
  {
   "cell_type": "code",
   "execution_count": null,
   "metadata": {},
   "outputs": [],
   "source": [
    "from datetime import datetime\n",
    "import pandas as pd\n",
    "import warnings\n",
    "import os\n",
    "\n",
    "warnings.filterwarnings(\"ignore\")"
   ]
  },
  {
   "cell_type": "code",
   "execution_count": null,
   "metadata": {},
   "outputs": [],
   "source": [
    "####################################### ACTUALIZAR CARTERA CCD #######################################"
   ]
  },
  {
   "cell_type": "code",
   "execution_count": null,
   "metadata": {},
   "outputs": [],
   "source": [
    "# Depurar Nuevo_DACxANALISTA\n",
    "columnas = ['DEUDOR', 'NOMBRE', 'RUC', 'ANALISTA_ACT', 'TIPO_DAC', 'ESTADO']\n",
    "no_analistas = ['REGION NORTE', 'REGION SUR', 'WALTER LOPEZ', 'SIN INFORMACION']\n",
    "no_estados = ['LIQUIDADO', 'PROCESO DE LIQUIDACIÓN']\n",
    "\n",
    "df_dacx = pd.read_excel('docs/Nuevo_DACxANALISTA.xlsx', sheet_name='Base_NUEVA', usecols=columnas)\n",
    "df_dacx = df_dacx.rename(columns={'ANALISTA_ACT': 'ANALISTA', 'TIPO_DAC': 'TIPO'})\n",
    "df_dacx = df_dacx[~df_dacx['ANALISTA'].isin(no_analistas)]\n",
    "df_dacx = df_dacx[~df_dacx['ESTADO'].isin(no_estados)]\n",
    "df_dacx['DEUDOR'] = df_dacx['DEUDOR'].astype(\"Int64\").astype(str)\n",
    "df_dacx['RUC'] = df_dacx['RUC'].astype(\"Int64\").astype(str)\n",
    "df_dacx.dropna(subset=['DEUDOR'], inplace=True)\n",
    "df_dacx.drop_duplicates(subset=['DEUDOR'], inplace=True)\n",
    "df_dacx.reset_index(drop=True, inplace=True)\n",
    "\n",
    "list_analistas = df_dacx['ANALISTA'].unique() # Lista de analistas\n",
    "\n",
    "# Actualizar CARTERA_GENERAL_CCD\n",
    "df_cartera = pd.read_excel('docs/APOYOS_CCD.xlsx', sheet_name='GENERAL', usecols=['DEUDOR', 'APOYO1', 'APOYO2', 'APOYO3'])\n",
    "df_cartera['DEUDOR'] = df_cartera['DEUDOR'].astype(\"Int64\").astype(str)\n",
    "df_cartera = pd.merge(df_cartera, df_dacx, on='DEUDOR', how='right')\n",
    "df_cartera = df_cartera[['DEUDOR', 'NOMBRE', 'ANALISTA', 'APOYO1', 'APOYO2', 'APOYO3', 'ESTADO', 'TIPO']]\n",
    "df_cartera.dropna(subset=['DEUDOR'], inplace=True)\n",
    "df_cartera.drop_duplicates(subset=['DEUDOR'], inplace=True)\n",
    "df_cartera.sort_values(by='DEUDOR', inplace=True, ignore_index=True)\n",
    "df_cartera.reset_index(drop=True, inplace=True)\n",
    "df_cartera.to_excel('docs/APOYOS_CCD.xlsx', sheet_name='GENERAL', index=False)\n",
    "\n",
    "# Crear hojas por analista\n",
    "with pd.ExcelWriter('docs/APOYOS_CCD.xlsx') as writer:\n",
    "    df_temp = df_cartera.copy()\n",
    "    df_cartera.to_excel(writer, sheet_name='GENERAL', index=False)\n",
    "    for analista in list_analistas:\n",
    "        df_cartera = df_temp[df_temp['ANALISTA'] == analista]\n",
    "        df_cartera.sort_values(by='DEUDOR', inplace=True, ignore_index=True)\n",
    "        df_cartera.reset_index(drop=True, inplace=True)\n",
    "        print(f'HOJA: {analista} [{df_cartera.shape[0]}]')\n",
    "        df_cartera.to_excel(writer, sheet_name=analista, index=False)"
   ]
  },
  {
   "cell_type": "code",
   "execution_count": null,
   "metadata": {},
   "outputs": [],
   "source": [
    "####################################### BASE CELULARES vs CARTERA CCD #######################################"
   ]
  },
  {
   "cell_type": "code",
   "execution_count": null,
   "metadata": {},
   "outputs": [],
   "source": [
    "df_celulares = pd.read_excel('docs/Base_Celulares_CCD.xlsx')\n",
    "df_celulares['DEUDOR'] = df_celulares['DEUDOR'].astype(\"Int64\").astype(str)\n",
    "df_celulares['CELULAR'] = df_celulares['CELULAR'].astype(\"Int64\").astype(str)\n",
    "df_celulares = df_celulares[['DEUDOR', 'CELULAR']]\n",
    "df_celulares['CELULAR'] = df_celulares[df_celulares['CELULAR'].str.len() == 9]['CELULAR']\n",
    "df_celulares.dropna(subset=['CELULAR'], inplace=True)\n",
    "df_celulares['CELULAR'] = '51' + df_celulares['CELULAR']\n",
    "df_celulares.reset_index(drop=True, inplace=True)\n",
    "\n",
    "df_cartera = pd.read_excel('docs/APOYOS_CCD.xlsx', sheet_name='GENERAL', usecols=['DEUDOR', 'ANALISTA', 'APOYO1', 'APOYO2', 'APOYO3'])\n",
    "df_cartera['DEUDOR'] = df_cartera['DEUDOR'].astype(\"Int64\").astype(str)\n",
    "df_cruce = pd.merge(df_celulares, df_cartera, on='DEUDOR', how='left')\n",
    "df_cruce.dropna(subset=['ANALISTA'], inplace=True)\n",
    "df_cruce.dropna(subset=['CELULAR'], inplace=True)\n",
    "df_cruce.reset_index(drop=True, inplace=True)\n",
    "df_cruce.head(5)"
   ]
  },
  {
   "cell_type": "code",
   "execution_count": null,
   "metadata": {},
   "outputs": [],
   "source": [
    "####################################### CADENA DE TEXTO #######################################"
   ]
  },
  {
   "cell_type": "code",
   "execution_count": null,
   "metadata": {},
   "outputs": [],
   "source": [
    "# (f'{row[\"CELULAR\"]}{texto1}{row[\"ANALISTA\"]}{texto2}{row[\"FECHA_RETORNO\"]}{texto3}{row[\"APOYO\"]}{texto4}')\n",
    "df_regla = pd.read_excel('docs/REGLA.xlsx', sheet_name='TEXTO')\n",
    "texto1 = df_regla['TEXTO'][0]\n",
    "texto2 = df_regla['TEXTO'][1]\n",
    "texto3 = df_regla['TEXTO'][2]\n",
    "texto4 = df_regla['TEXTO'][3]\n",
    "print(f'{texto1}\\n{texto2}\\n{texto3}\\n{texto4}')"
   ]
  },
  {
   "cell_type": "code",
   "execution_count": null,
   "metadata": {},
   "outputs": [],
   "source": [
    "####################################### ANALISTAS DE VACACIONES #######################################"
   ]
  },
  {
   "cell_type": "code",
   "execution_count": null,
   "metadata": {},
   "outputs": [],
   "source": [
    "fecha_hoy = datetime.now().strftime('%d.%m.%Y')\n",
    "\n",
    "df_vacaciones = pd.read_excel('docs/VACACIONES.xlsx')\n",
    "df_vacaciones.dropna(inplace=True)\n",
    "dict_analistas = dict(zip(df_vacaciones['ANALISTA'], zip(df_vacaciones['FECHA_SALIDA'], df_vacaciones['FECHA_RETORNO'])))\n",
    "print(dict_analistas)\n",
    "vacaciones = {}\n",
    "for analista, fechas in dict_analistas.items():\n",
    "    if fechas[0] <= fecha_hoy <= fechas[1]:\n",
    "        print(f'{analista} de vacaciones desde {fechas[0]} hasta {fechas[1]}')\n",
    "        vacaciones.update({analista: fechas[1]})\n",
    "if vacaciones == {}:\n",
    "    print('Ningún analista de vacaciones')\n",
    "vacaciones"
   ]
  },
  {
   "cell_type": "code",
   "execution_count": null,
   "metadata": {},
   "outputs": [],
   "source": [
    "####################################### AGREGAR COLUMNA FECHA_RETORNO Y APOYO #######################################"
   ]
  },
  {
   "cell_type": "code",
   "execution_count": null,
   "metadata": {},
   "outputs": [],
   "source": [
    "analistas = list(vacaciones.keys())\n",
    "df_cruce = df_cruce[df_cruce['ANALISTA'].isin(analistas)]\n",
    "df_cruce['FECHA_RETORNO'] = df_cruce['ANALISTA'].map(vacaciones)\n",
    "df_cruce['APOYO'] = df_cruce[['APOYO1', 'APOYO2', 'APOYO3']].apply(\n",
    "    lambda x: x[0] if x[0] not in (analistas) \n",
    "    else (x[1] if x[1] not in (analistas) else x[2]), axis=1)\n",
    "df_cruce['FECHA_RETORNO'] = df_cruce['FECHA_RETORNO'].str.replace('.', '/')\n",
    "df_cruce.reset_index(drop=True, inplace=True)\n",
    "df_cruce = df_cruce[['CELULAR', 'ANALISTA', 'FECHA_RETORNO','APOYO']]\n",
    "df_cruce"
   ]
  },
  {
   "cell_type": "code",
   "execution_count": null,
   "metadata": {},
   "outputs": [],
   "source": [
    "####################################### AGREGAR COLUMNA TEXTO #######################################"
   ]
  },
  {
   "cell_type": "code",
   "execution_count": null,
   "metadata": {},
   "outputs": [],
   "source": [
    "# (f'{row[\"CELULAR\"]}{texto1}{row[\"ANALISTA\"]}{texto2}{row[\"FECHA_RETORNO\"]}{texto3}{row[\"APOYO\"]}{texto4}')\n",
    "df_cruce['TEXTO'] = df_cruce.apply(lambda row: f'{row[\"CELULAR\"]}{texto1}{row[\"ANALISTA\"]}{texto2}{row[\"FECHA_RETORNO\"]}{texto3}{row[\"APOYO\"]}{texto4}', axis=1)\n",
    "df_cruce"
   ]
  },
  {
   "cell_type": "code",
   "execution_count": null,
   "metadata": {},
   "outputs": [],
   "source": [
    "####################################### EXPORTAR TXT #######################################"
   ]
  },
  {
   "cell_type": "code",
   "execution_count": null,
   "metadata": {},
   "outputs": [],
   "source": [
    "lista_apoyos = df_cruce[\"TEXTO\"].to_list()\n",
    "with open('SMS_APOYOS.txt', \"w\") as f:\n",
    "    for item in lista_apoyos:\n",
    "        f.write(\"%s\\n\" % item)\n",
    "\n",
    "os.startfile('SMS_APOYOS.txt')"
   ]
  }
 ],
 "metadata": {
  "kernelspec": {
   "display_name": "env",
   "language": "python",
   "name": "python3"
  },
  "language_info": {
   "codemirror_mode": {
    "name": "ipython",
    "version": 3
   },
   "file_extension": ".py",
   "mimetype": "text/x-python",
   "name": "python",
   "nbconvert_exporter": "python",
   "pygments_lexer": "ipython3",
   "version": "3.10.9"
  }
 },
 "nbformat": 4,
 "nbformat_minor": 2
}
