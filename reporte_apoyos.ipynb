{
 "cells": [
  {
   "cell_type": "code",
   "execution_count": 1,
   "metadata": {},
   "outputs": [],
   "source": [
    "from clase_sms_apoyo import SMS_APOYO\n",
    "import warnings\n",
    "warnings.filterwarnings('ignore')\n",
    "\n",
    "ruta_dacx = 'docs/Nuevo_DACxANALISTA.xlsx'\n",
    "ruta_celulares = 'docs/Base_Celulares_CCD.xlsx'\n",
    "ruta_apoyos = 'docs/APOYOS_CCD.xlsx'\n",
    "ruta_vacaciones = 'docs/VACACIONES.xlsx'\n",
    "apoyos_txt = 'SMS_APOYOS.txt'\n",
    "\n",
    "reporte = SMS_APOYO(ruta_dacx, ruta_celulares, ruta_apoyos, ruta_vacaciones, apoyos_txt)"
   ]
  },
  {
   "cell_type": "code",
   "execution_count": 2,
   "metadata": {},
   "outputs": [
    {
     "name": "stdout",
     "output_type": "stream",
     "text": [
      "HOJA: DIEGO RODRIGUEZ [85 registros]\n",
      "HOJA: JOSE LUIS VALVERDE [83 registros]\n",
      "HOJA: JUAN CARLOS HUATAY [76 registros]\n",
      "HOJA: YOLANDA OLIVA [78 registros]\n",
      "HOJA: RAQUEL CAYETANO [81 registros]\n",
      "JUAN CARLOS HUATAY de vacaciones desde 30.05.2024 hasta 10.06.2024\n"
     ]
    }
   ],
   "source": [
    "reporte.depurar_dacx()\n",
    "reporte.actualizar_apoyos()\n",
    "reporte.depurar_celulares()\n",
    "reporte.cruzar_data()\n",
    "reporte.obtener_regla()\n",
    "reporte.generar_sms()"
   ]
  }
 ],
 "metadata": {
  "kernelspec": {
   "display_name": "Python 3",
   "language": "python",
   "name": "python3"
  },
  "language_info": {
   "codemirror_mode": {
    "name": "ipython",
    "version": 3
   },
   "file_extension": ".py",
   "mimetype": "text/x-python",
   "name": "python",
   "nbconvert_exporter": "python",
   "pygments_lexer": "ipython3",
   "version": "3.10.9"
  }
 },
 "nbformat": 4,
 "nbformat_minor": 2
}
