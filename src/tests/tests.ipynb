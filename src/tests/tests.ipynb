{
 "cells": [
  {
   "cell_type": "code",
   "execution_count": 1,
   "metadata": {},
   "outputs": [],
   "source": [
    "import pandas as pd\n",
    "import warnings\n",
    "warnings.filterwarnings(\"ignore\")"
   ]
  },
  {
   "cell_type": "code",
   "execution_count": 2,
   "metadata": {},
   "outputs": [],
   "source": [
    "############################################## ACTUALIZAR CARTERA CCD ##############################################"
   ]
  },
  {
   "cell_type": "code",
   "execution_count": 3,
   "metadata": {},
   "outputs": [
    {
     "name": "stdout",
     "output_type": "stream",
     "text": [
      "HOJA: DIEGO RODRIGUEZ [85]\n",
      "HOJA: JOSE LUIS VALVERDE [83]\n",
      "HOJA: JUAN CARLOS HUATAY [76]\n",
      "HOJA: YOLANDA OLIVA [78]\n",
      "HOJA: RAQUEL CAYETANO [81]\n"
     ]
    }
   ],
   "source": [
    "columnas = ['DEUDOR', 'NOMBRE', 'RUC', 'ANALISTA_ACT', 'TIPO_DAC', 'ESTADO']\n",
    "no_analistas = ['REGION NORTE', 'REGION SUR', 'WALTER LOPEZ', 'SIN INFORMACION']\n",
    "no_estados = ['LIQUIDADO', 'PROCESO DE LIQUIDACIÓN']\n",
    "\n",
    "# Depurar Nuevo_DACxANALISTA\n",
    "df_dacx = pd.read_excel('./Nuevo_DACxANALISTA.xlsx', sheet_name='Base_NUEVA', usecols=columnas)\n",
    "df_dacx = df_dacx.rename(columns={'ANALISTA_ACT': 'ANALISTA', 'TIPO_DAC': 'TIPO'})\n",
    "df_dacx = df_dacx[~df_dacx['ANALISTA'].isin(no_analistas)]\n",
    "df_dacx = df_dacx[~df_dacx['ESTADO'].isin(no_estados)]\n",
    "df_dacx['DEUDOR'] = df_dacx['DEUDOR'].astype(\"Int64\").astype(str)\n",
    "df_dacx['RUC'] = df_dacx['RUC'].astype(\"Int64\").astype(str)\n",
    "df_dacx.dropna(subset=['DEUDOR'], inplace=True)\n",
    "df_dacx.drop_duplicates(subset=['DEUDOR'], inplace=True)\n",
    "df_dacx.reset_index(drop=True, inplace=True)\n",
    "\n",
    "list_analistas = df_dacx['ANALISTA'].unique() # Lista de analistas\n",
    "\n",
    "# Actualizar CARTERA_GENERAL_CCD\n",
    "df_cartera = pd.read_excel('./CARTERA_CCD.xlsx', sheet_name='GENERAL', usecols=['DEUDOR', 'APOYO1', 'APOYO2', 'APOYO3'])\n",
    "df_cartera['DEUDOR'] = df_cartera['DEUDOR'].astype(\"Int64\").astype(str)\n",
    "columnas_cruce = ['DEUDOR', 'NOMBRE', 'ANALISTA', 'APOYO1', 'APOYO2', 'APOYO3', 'ESTADO', 'TIPO']\n",
    "df_cartera = pd.merge(df_cartera, df_dacx, on='DEUDOR', how='right')\n",
    "df_cartera = df_cartera[columnas_cruce]\n",
    "df_cartera.dropna(subset=['DEUDOR'], inplace=True)\n",
    "df_cartera.drop_duplicates(subset=['DEUDOR'], inplace=True)\n",
    "df_cartera.sort_values(by='DEUDOR', inplace=True, ignore_index=True)\n",
    "df_cartera.reset_index(drop=True, inplace=True)\n",
    "df_cartera.to_excel('./CARTERA_CCD.xlsx', sheet_name='GENERAL', index=False)\n",
    "\n",
    "# Crear hojas por analista\n",
    "with pd.ExcelWriter('./CARTERA_CCD.xlsx') as writer:\n",
    "    df_temp = df_cartera.copy()\n",
    "    df_cartera.to_excel(writer, sheet_name='GENERAL', index=False)\n",
    "    for analista in list_analistas:\n",
    "        df_cartera = df_temp[df_temp['ANALISTA'] == analista]\n",
    "        df_cartera.sort_values(by='DEUDOR', inplace=True, ignore_index=True)\n",
    "        df_cartera.reset_index(drop=True, inplace=True)\n",
    "        print(f'HOJA: {analista} [{df_cartera.shape[0]}]')\n",
    "        df_cartera.to_excel(writer, sheet_name=analista, index=False)"
   ]
  },
  {
   "cell_type": "code",
   "execution_count": 4,
   "metadata": {},
   "outputs": [],
   "source": [
    "############################################## CRUCE BASE CELULARES vs CARTERA CCD ##############################################"
   ]
  },
  {
   "cell_type": "code",
   "execution_count": 5,
   "metadata": {},
   "outputs": [
    {
     "data": {
      "text/html": [
       "<div>\n",
       "<style scoped>\n",
       "    .dataframe tbody tr th:only-of-type {\n",
       "        vertical-align: middle;\n",
       "    }\n",
       "\n",
       "    .dataframe tbody tr th {\n",
       "        vertical-align: top;\n",
       "    }\n",
       "\n",
       "    .dataframe thead th {\n",
       "        text-align: right;\n",
       "    }\n",
       "</style>\n",
       "<table border=\"1\" class=\"dataframe\">\n",
       "  <thead>\n",
       "    <tr style=\"text-align: right;\">\n",
       "      <th></th>\n",
       "      <th>DEUDOR</th>\n",
       "      <th>CELULAR</th>\n",
       "      <th>ANALISTA</th>\n",
       "      <th>APOYO1</th>\n",
       "      <th>APOYO2</th>\n",
       "      <th>APOYO3</th>\n",
       "    </tr>\n",
       "  </thead>\n",
       "  <tbody>\n",
       "    <tr>\n",
       "      <th>0</th>\n",
       "      <td>4070709</td>\n",
       "      <td>51997108820</td>\n",
       "      <td>YOLANDA OLIVA</td>\n",
       "      <td>DIEGO RODRIGUEZ</td>\n",
       "      <td>JOSE LUIS VALVERDE</td>\n",
       "      <td>JUAN CARLOS HUATAY</td>\n",
       "    </tr>\n",
       "    <tr>\n",
       "      <th>1</th>\n",
       "      <td>4071078</td>\n",
       "      <td>51997108224</td>\n",
       "      <td>JOSE LUIS VALVERDE</td>\n",
       "      <td>DIEGO RODRIGUEZ</td>\n",
       "      <td>YOLANDA OLIVA</td>\n",
       "      <td>RAQUEL CAYETANO</td>\n",
       "    </tr>\n",
       "    <tr>\n",
       "      <th>2</th>\n",
       "      <td>4070112</td>\n",
       "      <td>51980588839</td>\n",
       "      <td>JUAN CARLOS HUATAY</td>\n",
       "      <td>JOSE LUIS VALVERDE</td>\n",
       "      <td>RAQUEL CAYETANO</td>\n",
       "      <td>YOLANDA OLIVA</td>\n",
       "    </tr>\n",
       "    <tr>\n",
       "      <th>3</th>\n",
       "      <td>4070230</td>\n",
       "      <td>51950304684</td>\n",
       "      <td>YOLANDA OLIVA</td>\n",
       "      <td>RAQUEL CAYETANO</td>\n",
       "      <td>DIEGO RODRIGUEZ</td>\n",
       "      <td>JOSE LUIS VALVERDE</td>\n",
       "    </tr>\n",
       "    <tr>\n",
       "      <th>4</th>\n",
       "      <td>4070266</td>\n",
       "      <td>51979717800</td>\n",
       "      <td>YOLANDA OLIVA</td>\n",
       "      <td>JOSE LUIS VALVERDE</td>\n",
       "      <td>RAQUEL CAYETANO</td>\n",
       "      <td>DIEGO RODRIGUEZ</td>\n",
       "    </tr>\n",
       "  </tbody>\n",
       "</table>\n",
       "</div>"
      ],
      "text/plain": [
       "    DEUDOR      CELULAR            ANALISTA              APOYO1  \\\n",
       "0  4070709  51997108820       YOLANDA OLIVA     DIEGO RODRIGUEZ   \n",
       "1  4071078  51997108224  JOSE LUIS VALVERDE     DIEGO RODRIGUEZ   \n",
       "2  4070112  51980588839  JUAN CARLOS HUATAY  JOSE LUIS VALVERDE   \n",
       "3  4070230  51950304684       YOLANDA OLIVA     RAQUEL CAYETANO   \n",
       "4  4070266  51979717800       YOLANDA OLIVA  JOSE LUIS VALVERDE   \n",
       "\n",
       "               APOYO2              APOYO3  \n",
       "0  JOSE LUIS VALVERDE  JUAN CARLOS HUATAY  \n",
       "1       YOLANDA OLIVA     RAQUEL CAYETANO  \n",
       "2     RAQUEL CAYETANO       YOLANDA OLIVA  \n",
       "3     DIEGO RODRIGUEZ  JOSE LUIS VALVERDE  \n",
       "4     RAQUEL CAYETANO     DIEGO RODRIGUEZ  "
      ]
     },
     "execution_count": 5,
     "metadata": {},
     "output_type": "execute_result"
    }
   ],
   "source": [
    "df_celulares = pd.read_excel('./Base_Celulares_CCD.xlsx')\n",
    "df_celulares['DEUDOR'] = df_celulares['DEUDOR'].astype(\"Int64\").astype(str)\n",
    "df_celulares['CELULAR'] = df_celulares['CELULAR'].astype(\"Int64\").astype(str)\n",
    "df_celulares = df_celulares[['DEUDOR', 'CELULAR']]\n",
    "df_celulares['CELULAR'] = df_celulares[df_celulares['CELULAR'].str.len() == 9]['CELULAR']\n",
    "df_celulares.dropna(subset=['CELULAR'], inplace=True)\n",
    "df_celulares['CELULAR'] = '51' + df_celulares['CELULAR']\n",
    "df_celulares.reset_index(drop=True, inplace=True)\n",
    "\n",
    "df_cartera = pd.read_excel('./CARTERA_CCD.xlsx', sheet_name='GENERAL', usecols=['DEUDOR', 'ANALISTA', 'APOYO1', 'APOYO2', 'APOYO3'])\n",
    "df_cartera['DEUDOR'] = df_cartera['DEUDOR'].astype(\"Int64\").astype(str)\n",
    "df_cruce = pd.merge(df_celulares, df_cartera, on='DEUDOR', how='left')\n",
    "df_cruce.dropna(subset=['ANALISTA'], inplace=True)\n",
    "df_cruce.dropna(subset=['CELULAR'], inplace=True)\n",
    "df_cruce.reset_index(drop=True, inplace=True)\n",
    "df_cruce.head(5)"
   ]
  },
  {
   "cell_type": "code",
   "execution_count": 6,
   "metadata": {},
   "outputs": [],
   "source": [
    "############################################## CADENA DE TEXTO ##############################################"
   ]
  },
  {
   "cell_type": "code",
   "execution_count": 7,
   "metadata": {},
   "outputs": [
    {
     "name": "stdout",
     "output_type": "stream",
     "text": [
      ",Text,\"Estimado Socio: Le informamos que su analista \n",
      ", se encontra de vacaciones hasta el dia \n",
      ". Quien quedara a cargo de la cuenta comercial sera el/la analista \n",
      ". Gracias por su comprension. Creditos y Cobranzas Distribuidores le desea un excelente dia\"\n"
     ]
    }
   ],
   "source": [
    "df_regla = pd.read_excel('./TEXTO.xlsx', sheet_name='TEXTO')\n",
    "texto1 = df_regla['TEXTO_1'][0]\n",
    "texto2 = df_regla['TEXTO_2'][0]\n",
    "texto3 = df_regla['TEXTO_3'][0]\n",
    "texto4 = df_regla['TEXTO_4'][0]\n",
    "print(f'{texto1}\\n{texto2}\\n{texto3}\\n{texto4}')\n",
    "\n",
    "# (f'{row[\"CELULAR\"]}{texto1}{row[\"ANALISTA\"]}{texto2}{row[\"FECHA_RETORNO\"]}{texto3}{row[\"APOYO\"]}{texto4}')"
   ]
  },
  {
   "cell_type": "code",
   "execution_count": 8,
   "metadata": {},
   "outputs": [],
   "source": [
    "############################################## ANALISTAS DE VACACIONES ##############################################"
   ]
  },
  {
   "cell_type": "code",
   "execution_count": 9,
   "metadata": {},
   "outputs": [
    {
     "data": {
      "text/plain": [
       "{'JUAN CARLOS HUATAY': '25.05.2024', 'RAQUEL CAYETANO': '30.05.2024'}"
      ]
     },
     "execution_count": 9,
     "metadata": {},
     "output_type": "execute_result"
    }
   ],
   "source": [
    "from datetime import datetime\n",
    "\n",
    "fecha_hoy = datetime.now().strftime('%d.%m.%Y')\n",
    "\n",
    "df_vacaciones = pd.read_excel('./VACACIONES.xlsx')\n",
    "df_vacaciones.dropna(inplace=True)\n",
    "dict_analistas = dict(zip(df_vacaciones['ANALISTA'], zip(df_vacaciones['FECHA_SALIDA'], df_vacaciones['FECHA_RETORNO'])))\n",
    "\n",
    "vacaciones = {}\n",
    "for analista, fechas in dict_analistas.items():\n",
    "    if fechas[0] <= fecha_hoy <= fechas[1]:\n",
    "        vacaciones.update({analista: fechas[1]})\n",
    "vacaciones"
   ]
  },
  {
   "cell_type": "code",
   "execution_count": 10,
   "metadata": {},
   "outputs": [],
   "source": [
    "############################################## FILTRO VACACIONES ##############################################"
   ]
  },
  {
   "cell_type": "code",
   "execution_count": 11,
   "metadata": {},
   "outputs": [
    {
     "data": {
      "text/html": [
       "<div>\n",
       "<style scoped>\n",
       "    .dataframe tbody tr th:only-of-type {\n",
       "        vertical-align: middle;\n",
       "    }\n",
       "\n",
       "    .dataframe tbody tr th {\n",
       "        vertical-align: top;\n",
       "    }\n",
       "\n",
       "    .dataframe thead th {\n",
       "        text-align: right;\n",
       "    }\n",
       "</style>\n",
       "<table border=\"1\" class=\"dataframe\">\n",
       "  <thead>\n",
       "    <tr style=\"text-align: right;\">\n",
       "      <th></th>\n",
       "      <th>CELULAR</th>\n",
       "      <th>ANALISTA</th>\n",
       "      <th>FECHA_RETORNO</th>\n",
       "      <th>APOYO</th>\n",
       "    </tr>\n",
       "  </thead>\n",
       "  <tbody>\n",
       "    <tr>\n",
       "      <th>0</th>\n",
       "      <td>51980588839</td>\n",
       "      <td>JUAN CARLOS HUATAY</td>\n",
       "      <td>25.05.2024</td>\n",
       "      <td>JOSE LUIS VALVERDE</td>\n",
       "    </tr>\n",
       "    <tr>\n",
       "      <th>1</th>\n",
       "      <td>51966773333</td>\n",
       "      <td>JUAN CARLOS HUATAY</td>\n",
       "      <td>25.05.2024</td>\n",
       "      <td>JOSE LUIS VALVERDE</td>\n",
       "    </tr>\n",
       "    <tr>\n",
       "      <th>2</th>\n",
       "      <td>51974634230</td>\n",
       "      <td>RAQUEL CAYETANO</td>\n",
       "      <td>30.05.2024</td>\n",
       "      <td>YOLANDA OLIVA</td>\n",
       "    </tr>\n",
       "    <tr>\n",
       "      <th>3</th>\n",
       "      <td>51940390901</td>\n",
       "      <td>RAQUEL CAYETANO</td>\n",
       "      <td>30.05.2024</td>\n",
       "      <td>JOSE LUIS VALVERDE</td>\n",
       "    </tr>\n",
       "    <tr>\n",
       "      <th>4</th>\n",
       "      <td>51964237590</td>\n",
       "      <td>RAQUEL CAYETANO</td>\n",
       "      <td>30.05.2024</td>\n",
       "      <td>JOSE LUIS VALVERDE</td>\n",
       "    </tr>\n",
       "  </tbody>\n",
       "</table>\n",
       "</div>"
      ],
      "text/plain": [
       "       CELULAR            ANALISTA FECHA_RETORNO               APOYO\n",
       "0  51980588839  JUAN CARLOS HUATAY    25.05.2024  JOSE LUIS VALVERDE\n",
       "1  51966773333  JUAN CARLOS HUATAY    25.05.2024  JOSE LUIS VALVERDE\n",
       "2  51974634230     RAQUEL CAYETANO    30.05.2024       YOLANDA OLIVA\n",
       "3  51940390901     RAQUEL CAYETANO    30.05.2024  JOSE LUIS VALVERDE\n",
       "4  51964237590     RAQUEL CAYETANO    30.05.2024  JOSE LUIS VALVERDE"
      ]
     },
     "execution_count": 11,
     "metadata": {},
     "output_type": "execute_result"
    }
   ],
   "source": [
    "analistas = list(vacaciones.keys())\n",
    "columnas_cruce = ['CELULAR', 'ANALISTA', 'FECHA_RETORNO','APOYO']\n",
    "df_cruce = df_cruce[df_cruce['ANALISTA'].isin(analistas)]\n",
    "df_cruce['FECHA_RETORNO'] = df_cruce['ANALISTA'].map(vacaciones)\n",
    "df_cruce['APOYO'] = df_cruce[['APOYO1', 'APOYO2', 'APOYO3']].apply(lambda x: x[0] if x[0] not in (analistas) else (x[1] if x[1] not in (analistas) else x[2]), axis=1)\n",
    "df_cruce.reset_index(drop=True, inplace=True)\n",
    "df_cruce = df_cruce[columnas_cruce]\n",
    "df_cruce.head(5)"
   ]
  },
  {
   "cell_type": "code",
   "execution_count": 12,
   "metadata": {},
   "outputs": [
    {
     "data": {
      "text/html": [
       "<div>\n",
       "<style scoped>\n",
       "    .dataframe tbody tr th:only-of-type {\n",
       "        vertical-align: middle;\n",
       "    }\n",
       "\n",
       "    .dataframe tbody tr th {\n",
       "        vertical-align: top;\n",
       "    }\n",
       "\n",
       "    .dataframe thead th {\n",
       "        text-align: right;\n",
       "    }\n",
       "</style>\n",
       "<table border=\"1\" class=\"dataframe\">\n",
       "  <thead>\n",
       "    <tr style=\"text-align: right;\">\n",
       "      <th></th>\n",
       "      <th>CELULAR</th>\n",
       "      <th>ANALISTA</th>\n",
       "      <th>FECHA_RETORNO</th>\n",
       "      <th>APOYO</th>\n",
       "      <th>TEXTO</th>\n",
       "    </tr>\n",
       "  </thead>\n",
       "  <tbody>\n",
       "    <tr>\n",
       "      <th>0</th>\n",
       "      <td>51980588839</td>\n",
       "      <td>JUAN CARLOS HUATAY</td>\n",
       "      <td>25.05.2024</td>\n",
       "      <td>JOSE LUIS VALVERDE</td>\n",
       "      <td>51980588839,Text,\"Estimado Socio: Le informamo...</td>\n",
       "    </tr>\n",
       "    <tr>\n",
       "      <th>1</th>\n",
       "      <td>51966773333</td>\n",
       "      <td>JUAN CARLOS HUATAY</td>\n",
       "      <td>25.05.2024</td>\n",
       "      <td>JOSE LUIS VALVERDE</td>\n",
       "      <td>51966773333,Text,\"Estimado Socio: Le informamo...</td>\n",
       "    </tr>\n",
       "    <tr>\n",
       "      <th>2</th>\n",
       "      <td>51974634230</td>\n",
       "      <td>RAQUEL CAYETANO</td>\n",
       "      <td>30.05.2024</td>\n",
       "      <td>YOLANDA OLIVA</td>\n",
       "      <td>51974634230,Text,\"Estimado Socio: Le informamo...</td>\n",
       "    </tr>\n",
       "    <tr>\n",
       "      <th>3</th>\n",
       "      <td>51940390901</td>\n",
       "      <td>RAQUEL CAYETANO</td>\n",
       "      <td>30.05.2024</td>\n",
       "      <td>JOSE LUIS VALVERDE</td>\n",
       "      <td>51940390901,Text,\"Estimado Socio: Le informamo...</td>\n",
       "    </tr>\n",
       "    <tr>\n",
       "      <th>4</th>\n",
       "      <td>51964237590</td>\n",
       "      <td>RAQUEL CAYETANO</td>\n",
       "      <td>30.05.2024</td>\n",
       "      <td>JOSE LUIS VALVERDE</td>\n",
       "      <td>51964237590,Text,\"Estimado Socio: Le informamo...</td>\n",
       "    </tr>\n",
       "  </tbody>\n",
       "</table>\n",
       "</div>"
      ],
      "text/plain": [
       "       CELULAR            ANALISTA FECHA_RETORNO               APOYO  \\\n",
       "0  51980588839  JUAN CARLOS HUATAY    25.05.2024  JOSE LUIS VALVERDE   \n",
       "1  51966773333  JUAN CARLOS HUATAY    25.05.2024  JOSE LUIS VALVERDE   \n",
       "2  51974634230     RAQUEL CAYETANO    30.05.2024       YOLANDA OLIVA   \n",
       "3  51940390901     RAQUEL CAYETANO    30.05.2024  JOSE LUIS VALVERDE   \n",
       "4  51964237590     RAQUEL CAYETANO    30.05.2024  JOSE LUIS VALVERDE   \n",
       "\n",
       "                                               TEXTO  \n",
       "0  51980588839,Text,\"Estimado Socio: Le informamo...  \n",
       "1  51966773333,Text,\"Estimado Socio: Le informamo...  \n",
       "2  51974634230,Text,\"Estimado Socio: Le informamo...  \n",
       "3  51940390901,Text,\"Estimado Socio: Le informamo...  \n",
       "4  51964237590,Text,\"Estimado Socio: Le informamo...  "
      ]
     },
     "execution_count": 12,
     "metadata": {},
     "output_type": "execute_result"
    }
   ],
   "source": [
    "# (f'{row[\"CELULAR\"]}{texto1}{row[\"ANALISTA\"]}{texto2}{row[\"FECHA_RETORNO\"]}{texto3}{row[\"APOYO\"]}{texto4}')\n",
    "df_cruce['TEXTO'] = df_cruce.apply(lambda row: f'{row[\"CELULAR\"]}{texto1}{row[\"ANALISTA\"]}{texto2}{row[\"FECHA_RETORNO\"]}{texto3}{row[\"APOYO\"]}{texto4}', axis=1)\n",
    "df_cruce.head(5)"
   ]
  },
  {
   "cell_type": "code",
   "execution_count": 13,
   "metadata": {},
   "outputs": [],
   "source": [
    "sms_vacaciones = df_cruce[\"TEXTO\"].to_list()\n",
    "with open('SMS_APOYOS.txt', \"w\") as f:\n",
    "    for item in sms_vacaciones:\n",
    "        f.write(\"%s\\n\" % item)\n",
    "\n",
    "import os\n",
    "os.startfile('SMS_APOYOS.txt')"
   ]
  }
 ],
 "metadata": {
  "kernelspec": {
   "display_name": "env",
   "language": "python",
   "name": "python3"
  },
  "language_info": {
   "codemirror_mode": {
    "name": "ipython",
    "version": 3
   },
   "file_extension": ".py",
   "mimetype": "text/x-python",
   "name": "python",
   "nbconvert_exporter": "python",
   "pygments_lexer": "ipython3",
   "version": "3.10.9"
  }
 },
 "nbformat": 4,
 "nbformat_minor": 2
}
